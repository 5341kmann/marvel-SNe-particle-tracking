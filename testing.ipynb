{
 "cells": [
  {
   "cell_type": "code",
   "execution_count": 43,
   "metadata": {},
   "outputs": [
    {
     "name": "stderr",
     "output_type": "stream",
     "text": [
      "pynbody.halo : Unable to load AHF substructure file; continuing without. To expose the underlying problem as an exception, pass ignore_missing_substructure=False to the AHFCatalogue constructor\n"
     ]
    },
    {
     "name": "stdout",
     "output_type": "stream",
     "text": [
      "Checking properties for snapshot 4096\n"
     ]
    }
   ],
   "source": [
    "# snapnums_cptmarvel = [\n",
    "#     '004096' \n",
    "#     # '003968', '003840', '003712', '003636', '003584', '003456', '003328', '003245', '003200', \n",
    "#     #                   '003072', '002944', '002816', '002688', '002624', '002560', '002432', '002304', '002176', '002162',\n",
    "#     #                   '002048', '001920', '001813', '001792', '001664', '001543', '001536', '001408', '001331', '001280', \n",
    "#     #                   '001162', '001152', '000896', '000818', '000768', '000672', '000640', '000512', '000482', '000291',\n",
    "#     #                   '000199', '000146', \n",
    "#     #                   '000128'\n",
    "#                       ]\n",
    "\n",
    "# filepaths_cptmarvel = [SIM_FOLDER_PATH+'cptmarvel.cosmo25cmb/cptmarvel.cosmo25cmb.4096g5HbwK1BH/snapshots_200crit_cptmarvel/cptmarvel.cosmo25cmb.4096g5HbwK1BH.'+s for s in snapnums_cptmarvel]\n",
    "\n",
    "# # properties to check\n",
    "# properties = {\n",
    "#     \"s.properties\": [\n",
    "#         \"time\"\n",
    "#     ],\n",
    "#     \"s.gas\": [\n",
    "#         \"x\", \"y\", \"z\",\n",
    "#         \"iord\",\n",
    "#         \"vx\",\n",
    "#         \"vy\",\n",
    "#         \"vz\"\n",
    "#     ],\n",
    "#     \"s.gas.g\": [\n",
    "#         \"rho\",\n",
    "#         \"temp\",\n",
    "#         \"mass\",\n",
    "#         \"coolontime\"\n",
    "#     ],\n",
    "#     \"h.properties\": [\n",
    "#         \"Rvir\",\n",
    "#         \"Xc\", \"Yc\", \"Zc\",\n",
    "#         \"VXc\", \"VYc\", \"VZc\",\n",
    "#         \"Xc\", \"Yc\", \"Zc\",\n",
    "#         \"VXc\", \"VYc\", \"VZc\",\n",
    "#         \"M_star\",\n",
    "#         \"M_gas\",\n",
    "#         \"M_star\",\n",
    "#         \"M_gas\"\n",
    "#     ]\n",
    "# }\n",
    "\n",
    "# df = pd.DataFrame()\n",
    "# for fp in filepaths_cptmarvel:\n",
    "#     s = pynbody.load(fp)\n",
    "#     h = s.halos(halo_numbers='v1')\n",
    "#     halo = h[1]\n",
    "#     curout = pd.DataFrame()\n",
    "#     spropkeys = s.properties.keys()\n",
    "#     sgaskeys = s.gas.keys()\n",
    "#     sgasgkeys = s.gas.g.keys()  \n",
    "#     hpropkeys = halo.properties.keys()\n",
    "#     curout[\"snapnum\"] = [fp[-4:]]\n",
    "#     print(f'Checking properties for snapshot {fp[-4:]}')\n",
    "#     for prop in properties['s.properties']:\n",
    "#         curout[prop] = [prop in spropkeys]\n",
    "#     for prop in properties['s.gas']:\n",
    "#         curout[prop] = [prop in sgaskeys]\n",
    "#     for prop in properties['s.gas.g']:\n",
    "#         curout[prop] = [prop in sgasgkeys]\n",
    "#     for prop in properties['h.properties']:\n",
    "#         curout[prop] = [prop in hpropkeys]\n",
    "#     curout['sim.properties'] = [spropkeys]\n",
    "#     curout['halo.propeties'] = [hpropkeys]\n",
    "#     curout['sim.gas'] = [sgaskeys]\n",
    "#     curout['sum.gas.g'] = [sgasgkeys]\n",
    "\n",
    "#     df = pd.concat([df, curout], ignore_index=True)\n",
    "\n",
    "# df.to_csv('/home/sackmann/Documents/MAP/akins/Justice_League_Code/Analysis/Data/cptmarvel_properties_check.csv', index=False)"
   ]
  },
  {
   "cell_type": "code",
   "execution_count": 2,
   "metadata": {},
   "outputs": [],
   "source": [
    "import os\n",
    "import pynbody\n",
    "import particletracking as pt\n",
    "import pandas as pd\n",
    "import numpy as np\n",
    "hubble =  0.6776942783267969\n",
    "\n",
    "from IPython.core.interactiveshell import InteractiveShell\n",
    "InteractiveShell.ast_node_interactivity = \"all\"\n"
   ]
  },
  {
   "cell_type": "code",
   "execution_count": 3,
   "metadata": {},
   "outputs": [],
   "source": [
    "os.chdir('/home/sackmann/Documents/MAP/akins/Justice_League_Code/Analysis/RamPressure')\n",
    "# %run particletracking.py cptmarvel 1"
   ]
  },
  {
   "cell_type": "code",
   "execution_count": 5,
   "metadata": {},
   "outputs": [],
   "source": [
    "z0haloids = [1, 2, 3, 5, 6, 7, 8, 10, 11, 13, 16]\n",
    "sim = 'cptmarvel'\n",
    "excel_path = '/home/sackmann/Documents/MAP/akins/Justice_League_Code/Analysis/Data/tracked_marvel_particles.xlsx'\n",
    "\n",
    "\n",
    "def write_hdf_to_excel():\n",
    "    \"\"\"\n",
    "    Write a DataFrame to an Excel sheet.\n",
    "    \"\"\"\n",
    "    df.to_excel(writer, sheet_name=sheet_name, index=False)\n",
    "# Create an Excel writer\n",
    "with pd.ExcelWriter(excel_path, engine='xlsxwriter') as writer:\n",
    "    for z0haloid in z0haloids:\n",
    "        key = f'{sim}_{z0haloid}'\n",
    "        try:\n",
    "            # Read the data from the HDF5 file\n",
    "            df = pd.read_hdf('/home/sackmann/Documents/MAP/akins/Justice_League_Code/Analysis/Data/tracked_marvel_particles.hdf5', key=key, stop=1000)\n",
    "            # Write the DataFrame to a new sheet in the Excel file\n",
    "            df.to_excel(writer, sheet_name=key, index=False)\n",
    "        except KeyError:\n",
    "            print(f\"Key {key} not found in the HDF5 file.\")"
   ]
  },
  {
   "cell_type": "code",
   "execution_count": 6,
   "metadata": {},
   "outputs": [
    {
     "data": {
      "text/plain": [
       "['DummyHalo',\n",
       " 'Halo',\n",
       " 'HaloCatalog',\n",
       " 'HaloCatalogue',\n",
       " 'HaloNumberMapper',\n",
       " 'HaloParticleIndices',\n",
       " 'Iterable',\n",
       " 'MonotonicHaloNumberMapper',\n",
       " 'NDArray',\n",
       " 'TYPE_CHECKING',\n",
       " '__builtins__',\n",
       " '__cached__',\n",
       " '__doc__',\n",
       " '__file__',\n",
       " '__loader__',\n",
       " '__name__',\n",
       " '__package__',\n",
       " '__path__',\n",
       " '__spec__',\n",
       " '_alias_american_spelling',\n",
       " '_fix_american_spelling',\n",
       " 'adaptahop',\n",
       " 'ahf',\n",
       " 'annotations',\n",
       " 'array',\n",
       " 'copy',\n",
       " 'create_halo_number_mapper',\n",
       " 'details',\n",
       " 'hbtplus',\n",
       " 'hop',\n",
       " 'iter_subclasses',\n",
       " 'logger',\n",
       " 'logging',\n",
       " 'make_iord_to_offset_mapper',\n",
       " 'np',\n",
       " 'number_array',\n",
       " 'rockstar',\n",
       " 'snapshot',\n",
       " 'subfind',\n",
       " 'subfindhdf',\n",
       " 'subhalo_catalogue',\n",
       " 'units',\n",
       " 'util',\n",
       " 'velociraptor',\n",
       " 'warnings',\n",
       " 'weakref']"
      ]
     },
     "execution_count": 6,
     "metadata": {},
     "output_type": "execute_result"
    }
   ],
   "source": []
  },
  {
   "cell_type": "code",
   "execution_count": 3,
   "metadata": {},
   "outputs": [
    {
     "data": {
      "text/plain": [
       "Index(['time', 'pid', 'rho', 'temp', 'mass', 'coolontime', 'r', 'r_per_Rvir',\n",
       "       'x', 'y', 'z', 'satRvir', 'a', 'vx', 'vy', 'vz', 'v', 'r_rel_host',\n",
       "       'r_rel_host_per_Rvir', 'x_rel_host', 'y_rel_host', 'z_rel_host',\n",
       "       'hostRvir', 'vx_rel_host', 'vy_rel_host', 'vz_rel_host', 'v_rel_host',\n",
       "       'sat_Xc', 'sat_Yc', 'sat_Zc', 'sat_vx', 'sat_vy', 'sat_vz', 'host_Xc',\n",
       "       'host_Yc', 'host_Zc', 'host_vx', 'host_vy', 'host_vz', 'sat_Mstar',\n",
       "       'sat_Mgas', 'host_Mstar', 'host_Mgas', 'sat_r_half', 'sat_r_gas',\n",
       "       'host_r_half', 'host_r_gas', 'in_sat', 'in_host', 'in_other_sat',\n",
       "       'in_IGM'],\n",
       "      dtype='object')"
      ]
     },
     "execution_count": 3,
     "metadata": {},
     "output_type": "execute_result"
    }
   ],
   "source": [
    "\n",
    "wkeys = ['time', 'pid', 'rho', 'temp', 'mass', 'coolontime', 'r', 'r_per_Rvir',\n",
    "       'x', 'y', 'z', 'satRvir', 'a', 'vx', 'vy', 'vz', 'v', 'r_rel_host',\n",
    "       'r_rel_host_per_Rvir', 'x_rel_host', 'y_rel_host', 'z_rel_host',\n",
    "       'hostRvir', 'vx_rel_host', 'vy_rel_host', 'vz_rel_host', 'v_rel_host',\n",
    "       'sat_Xc', 'sat_Yc', 'sat_Zc', 'sat_vx', 'sat_vy', 'sat_vz', 'host_Xc',\n",
    "       'host_Yc', 'host_Zc', 'host_vx', 'host_vy', 'host_vz', 'sat_Mstar',\n",
    "       'sat_Mgas', 'host_Mstar', 'host_Mgas', 'sat_r_half', 'sat_r_gas',\n",
    "       'host_r_half', 'host_r_gas', 'in_sat', 'in_host', 'in_other_sat',\n",
    "       'in_IGM', 'dt', 'r_gal', 'host_r_gal', 'sat_disk', 'sat_halo',\n",
    "       'host_disk', 'host_halo', 'other_sat', 'IGM', 'sat_Mvir', 'angle',\n",
    "       'snHeated']\n",
    "\n",
    "path = '/home/sackmann/Documents/MAP/akins/Justice_League_Code/Analysis/Data/tracked_marvel_particles.hdf5'\n",
    "pd.read_hdf(path, key='cptmarvel_1').keys()"
   ]
  },
  {
   "cell_type": "code",
   "execution_count": 5,
   "metadata": {},
   "outputs": [
    {
     "name": "stdout",
     "output_type": "stream",
     "text": [
      "dt key is missing\n",
      "r_gal key is missing\n",
      "host_r_gal key is missing\n",
      "sat_disk key is missing\n",
      "sat_halo key is missing\n",
      "host_disk key is missing\n",
      "host_halo key is missing\n",
      "other_sat key is missing\n",
      "IGM key is missing\n",
      "sat_Mvir key is missing\n",
      "angle key is missing\n",
      "snHeated key is missing\n"
     ]
    }
   ],
   "source": [
    "marvel_keys = ['time', 'pid', 'rho', 'temp', 'mass', 'coolontime', 'r', 'r_per_Rvir',\n",
    "       'x', 'y', 'z', 'satRvir', 'a', 'vx', 'vy', 'vz', 'v', 'r_rel_host',\n",
    "       'r_rel_host_per_Rvir', 'x_rel_host', 'y_rel_host', 'z_rel_host',\n",
    "       'hostRvir', 'vx_rel_host', 'vy_rel_host', 'vz_rel_host', 'v_rel_host',\n",
    "       'sat_Xc', 'sat_Yc', 'sat_Zc', 'sat_vx', 'sat_vy', 'sat_vz', 'host_Xc',\n",
    "       'host_Yc', 'host_Zc', 'host_vx', 'host_vy', 'host_vz', 'sat_Mstar',\n",
    "       'sat_Mgas', 'host_Mstar', 'host_Mgas', 'sat_r_half', 'sat_r_gas',\n",
    "       'host_r_half', 'host_r_gas', 'in_sat', 'in_host', 'in_other_sat',\n",
    "       'in_IGM']\n",
    "for key in wkeys:\n",
    "    if key not in marvel_keys:\n",
    "        print(f'{key} key is missing')"
   ]
  },
  {
   "cell_type": "code",
   "execution_count": null,
   "metadata": {},
   "outputs": [],
   "source": [
    "path = "
   ]
  }
 ],
 "metadata": {
  "kernelspec": {
   "display_name": "conda-env-py311",
   "language": "python",
   "name": "python3"
  },
  "language_info": {
   "codemirror_mode": {
    "name": "ipython",
    "version": 3
   },
   "file_extension": ".py",
   "mimetype": "text/x-python",
   "name": "python",
   "nbconvert_exporter": "python",
   "pygments_lexer": "ipython3",
   "version": "3.11.13"
  }
 },
 "nbformat": 4,
 "nbformat_minor": 2
}
