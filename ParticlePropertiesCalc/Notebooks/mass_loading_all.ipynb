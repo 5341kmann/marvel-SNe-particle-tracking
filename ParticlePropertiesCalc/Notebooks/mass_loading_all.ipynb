{
 "cells": [
  {
   "cell_type": "code",
   "execution_count": 29,
   "metadata": {},
   "outputs": [
    {
     "name": "stdout",
     "output_type": "stream",
     "text": [
      "The autoreload extension is already loaded. To reload it, use:\n",
      "  %reload_ext autoreload\n"
     ]
    }
   ],
   "source": [
    "# auto updates code chnages\n",
    "%load_ext autoreload\n",
    "%autoreload 2\n",
    "\n",
    "import matplotlib.pyplot as plt\n",
    "from tqdm import tqdm\n",
    "import os\n",
    "import sys\n",
    "import pynbody\n",
    "import numpy as np\n",
    "basepath = os.path.dirname(os.path.dirname(os.getcwd()))\n",
    "if basepath not in sys.path:\n",
    "    sys.path.append(basepath)\n",
    "from base import *\n",
    "from analysis import *\n",
    "from IPython.core.interactiveshell import InteractiveShell\n",
    "InteractiveShell.ast_node_interactivity = \"all\""
   ]
  },
  {
   "cell_type": "code",
   "execution_count": 2,
   "metadata": {},
   "outputs": [],
   "source": [
    "\n",
    "key = 'cptmarvel_1'\n",
    "logging.basicConfig(filename=f'./logs/{key}.log', \n",
    "                    format='%(asctime)s :: %(name)s :: %(levelname)-8s :: %(message)s', \n",
    "                    datefmt='%m/%d/%Y %I:%M:%S %p',\n",
    "                    level=logging.DEBUG)\n",
    "\n",
    "logger = logging.getLogger('MassLoading Notebook')"
   ]
  },
  {
   "cell_type": "code",
   "execution_count": 21,
   "metadata": {},
   "outputs": [
    {
     "name": "stderr",
     "output_type": "stream",
     "text": [
      "pynbody.halo : Unable to load AHF substructure file; continuing without. To expose the underlying problem as an exception, pass ignore_missing_substructure=False to the AHFCatalogue constructor\n"
     ]
    },
    {
     "ename": "KeyboardInterrupt",
     "evalue": "",
     "output_type": "error",
     "traceback": [
      "\u001b[31m---------------------------------------------------------------------------\u001b[39m",
      "\u001b[31mKeyboardInterrupt\u001b[39m                         Traceback (most recent call last)",
      "\u001b[36mCell\u001b[39m\u001b[36m \u001b[39m\u001b[32mIn[21]\u001b[39m\u001b[32m, line 2\u001b[39m\n\u001b[32m      1\u001b[39m get_ipython().run_line_magic(\u001b[33m'\u001b[39m\u001b[33mreload_ext\u001b[39m\u001b[33m'\u001b[39m, \u001b[33m'\u001b[39m\u001b[33mautoreload\u001b[39m\u001b[33m'\u001b[39m)\n\u001b[32m----> \u001b[39m\u001b[32m2\u001b[39m get_halo_mlf(key, \u001b[32m4096\u001b[39m)\n",
      "\u001b[36mFile \u001b[39m\u001b[32m<string>:17\u001b[39m, in \u001b[36mget_halo_mlf\u001b[39m\u001b[34m(key, snap_num)\u001b[39m\n",
      "\u001b[36mFile \u001b[39m\u001b[32m~/anaconda3/envs/conda-env-py311/lib/python3.11/site-packages/pynbody/snapshot/simsnap.py:252\u001b[39m, in \u001b[36mSimSnap.__getitem__\u001b[39m\u001b[34m(self, i)\u001b[39m\n\u001b[32m    249\u001b[39m \u001b[38;5;28;01mfrom\u001b[39;00m\u001b[38;5;250m \u001b[39m\u001b[34;01m.\u001b[39;00m\u001b[38;5;250m \u001b[39m\u001b[38;5;28;01mimport\u001b[39;00m subsnap\n\u001b[32m    251\u001b[39m \u001b[38;5;28;01mif\u001b[39;00m \u001b[38;5;28misinstance\u001b[39m(i, \u001b[38;5;28mstr\u001b[39m):\n\u001b[32m--> \u001b[39m\u001b[32m252\u001b[39m     \u001b[38;5;28;01mreturn\u001b[39;00m \u001b[38;5;28mself\u001b[39m._get_array_with_lazy_actions(i)\n\u001b[32m    253\u001b[39m \u001b[38;5;28;01melif\u001b[39;00m \u001b[38;5;28misinstance\u001b[39m(i, \u001b[38;5;28mslice\u001b[39m):\n\u001b[32m    254\u001b[39m     \u001b[38;5;28;01mreturn\u001b[39;00m subsnap.SubSnap(\u001b[38;5;28mself\u001b[39m, i)\n",
      "\u001b[36mFile \u001b[39m\u001b[32m~/anaconda3/envs/conda-env-py311/lib/python3.11/site-packages/pynbody/snapshot/simsnap.py:358\u001b[39m, in \u001b[36mSimSnap._get_array_with_lazy_actions\u001b[39m\u001b[34m(self, name)\u001b[39m\n\u001b[32m    353\u001b[39m \u001b[38;5;66;03m# Now, we'll try to load the array...\u001b[39;00m\n\u001b[32m    354\u001b[39m \u001b[38;5;28;01mif\u001b[39;00m \u001b[38;5;129;01mnot\u001b[39;00m \u001b[38;5;28mself\u001b[39m.lazy_load_off:\n\u001b[32m    355\u001b[39m     \u001b[38;5;66;03m# Note that we don't want this to be inside _dependency_tracker.calculating(name), because there is a\u001b[39;00m\n\u001b[32m    356\u001b[39m     \u001b[38;5;66;03m# small possibility the load will be mapped into a derivation by the loader class. Specifically this\u001b[39;00m\n\u001b[32m    357\u001b[39m     \u001b[38;5;66;03m# happens in ramses snapshots for the mass array (which is derived from the density array for gas cells).\u001b[39;00m\n\u001b[32m--> \u001b[39m\u001b[32m358\u001b[39m     \u001b[38;5;28mself\u001b[39m.__load_if_required(name)\n\u001b[32m    360\u001b[39m \u001b[38;5;28;01mif\u001b[39;00m name \u001b[38;5;129;01min\u001b[39;00m \u001b[38;5;28mself\u001b[39m:\n\u001b[32m    361\u001b[39m     \u001b[38;5;66;03m# We managed to load it. Note the dependency.\u001b[39;00m\n\u001b[32m    362\u001b[39m     \u001b[38;5;28mself\u001b[39m._dependency_tracker.touching(name)\n",
      "\u001b[36mFile \u001b[39m\u001b[32m~/anaconda3/envs/conda-env-py311/lib/python3.11/site-packages/pynbody/snapshot/simsnap.py:377\u001b[39m, in \u001b[36mSimSnap.__load_if_required\u001b[39m\u001b[34m(self, name)\u001b[39m\n\u001b[32m    375\u001b[39m \u001b[38;5;28;01mif\u001b[39;00m name \u001b[38;5;129;01mnot\u001b[39;00m \u001b[38;5;129;01min\u001b[39;00m \u001b[38;5;28mlist\u001b[39m(\u001b[38;5;28mself\u001b[39m.keys()):\n\u001b[32m    376\u001b[39m     \u001b[38;5;28;01mtry\u001b[39;00m:\n\u001b[32m--> \u001b[39m\u001b[32m377\u001b[39m         \u001b[38;5;28mself\u001b[39m.__load_array_and_perform_postprocessing(name)\n\u001b[32m    378\u001b[39m     \u001b[38;5;28;01mexcept\u001b[39;00m \u001b[38;5;167;01mOSError\u001b[39;00m:\n\u001b[32m    379\u001b[39m         \u001b[38;5;28;01mpass\u001b[39;00m\n",
      "\u001b[36mFile \u001b[39m\u001b[32m~/anaconda3/envs/conda-env-py311/lib/python3.11/site-packages/pynbody/snapshot/simsnap.py:896\u001b[39m, in \u001b[36mSimSnap.__load_array_and_perform_postprocessing\u001b[39m\u001b[34m(self, array_name, fam)\u001b[39m\n\u001b[32m    894\u001b[39m \u001b[38;5;28;01melse\u001b[39;00m:\n\u001b[32m    895\u001b[39m     \u001b[38;5;28;01mtry\u001b[39;00m:\n\u001b[32m--> \u001b[39m\u001b[32m896\u001b[39m         \u001b[38;5;28mself\u001b[39m._load_array(array_name, fam)\n\u001b[32m    897\u001b[39m     \u001b[38;5;28;01mexcept\u001b[39;00m \u001b[38;5;167;01mOSError\u001b[39;00m:\n\u001b[32m    898\u001b[39m         \u001b[38;5;28;01mfor\u001b[39;00m fam_x \u001b[38;5;129;01min\u001b[39;00m \u001b[38;5;28mself\u001b[39m.families():\n",
      "\u001b[36mFile \u001b[39m\u001b[32m~/anaconda3/envs/conda-env-py311/lib/python3.11/site-packages/pynbody/snapshot/subsnap.py:375\u001b[39m, in \u001b[36mFamilySubSnap._load_array\u001b[39m\u001b[34m(self, array_name, fam, **kwargs)\u001b[39m\n\u001b[32m    373\u001b[39m \u001b[38;5;28;01mdef\u001b[39;00m\u001b[38;5;250m \u001b[39m\u001b[34m_load_array\u001b[39m(\u001b[38;5;28mself\u001b[39m, array_name, fam=\u001b[38;5;28;01mNone\u001b[39;00m, **kwargs):\n\u001b[32m    374\u001b[39m     \u001b[38;5;28;01mif\u001b[39;00m fam \u001b[38;5;129;01mis\u001b[39;00m \u001b[38;5;28mself\u001b[39m._unifamily \u001b[38;5;129;01mor\u001b[39;00m fam \u001b[38;5;129;01mis\u001b[39;00m \u001b[38;5;28;01mNone\u001b[39;00m:\n\u001b[32m--> \u001b[39m\u001b[32m375\u001b[39m         \u001b[38;5;28mself\u001b[39m._subsnap_base._load_array(array_name, \u001b[38;5;28mself\u001b[39m._unifamily)\n",
      "\u001b[36mFile \u001b[39m\u001b[32m~/anaconda3/envs/conda-env-py311/lib/python3.11/site-packages/pynbody/snapshot/subsnap.py:103\u001b[39m, in \u001b[36mSubSnapBase._load_array\u001b[39m\u001b[34m(self, array_name, fam, **kwargs)\u001b[39m\n\u001b[32m    102\u001b[39m \u001b[38;5;28;01mdef\u001b[39;00m\u001b[38;5;250m \u001b[39m\u001b[34m_load_array\u001b[39m(\u001b[38;5;28mself\u001b[39m, array_name, fam=\u001b[38;5;28;01mNone\u001b[39;00m, **kwargs):\n\u001b[32m--> \u001b[39m\u001b[32m103\u001b[39m     \u001b[38;5;28mself\u001b[39m._subsnap_base._load_array(array_name, fam)\n",
      "\u001b[36mFile \u001b[39m\u001b[32m~/anaconda3/envs/conda-env-py311/lib/python3.11/site-packages/pynbody/snapshot/tipsy.py:769\u001b[39m, in \u001b[36mTipsySnap._load_array\u001b[39m\u001b[34m(self, array_name, fam, filename, packed_vector)\u001b[39m\n\u001b[32m    765\u001b[39m \u001b[38;5;28;01mdef\u001b[39;00m\u001b[38;5;250m \u001b[39m\u001b[34m_load_array\u001b[39m(\u001b[38;5;28mself\u001b[39m, array_name, fam=\u001b[38;5;28;01mNone\u001b[39;00m, filename=\u001b[38;5;28;01mNone\u001b[39;00m,\n\u001b[32m    766\u001b[39m                 packed_vector=\u001b[38;5;28;01mNone\u001b[39;00m):\n\u001b[32m    768\u001b[39m     \u001b[38;5;28;01mif\u001b[39;00m array_name \u001b[38;5;129;01min\u001b[39;00m \u001b[38;5;28mself\u001b[39m._basic_loadable_keys[fam]:\n\u001b[32m--> \u001b[39m\u001b[32m769\u001b[39m         \u001b[38;5;28mself\u001b[39m._load_main_file()\n\u001b[32m    770\u001b[39m         \u001b[38;5;28;01mreturn\u001b[39;00m\n\u001b[32m    772\u001b[39m     fams = \u001b[38;5;28mself\u001b[39m._get_loadable_array_metadata(\n\u001b[32m    773\u001b[39m         array_name)[\u001b[32m1\u001b[39m] \u001b[38;5;129;01mor\u001b[39;00m \u001b[38;5;28mself\u001b[39m.families()\n",
      "\u001b[36mFile \u001b[39m\u001b[32m~/anaconda3/envs/conda-env-py311/lib/python3.11/site-packages/pynbody/snapshot/tipsy.py:216\u001b[39m, in \u001b[36mTipsySnap._load_main_file\u001b[39m\u001b[34m(self)\u001b[39m\n\u001b[32m    214\u001b[39m             \u001b[38;5;28;01mfor\u001b[39;00m name \u001b[38;5;129;01min\u001b[39;00m dtype.names:\n\u001b[32m    215\u001b[39m                 \u001b[38;5;28;01mif\u001b[39;00m name \u001b[38;5;129;01min\u001b[39;00m write:\n\u001b[32m--> \u001b[39m\u001b[32m216\u001b[39m                     self_fam[name][mem_index] = buf[name][buf_index]\n\u001b[32m    218\u001b[39m f.close()\n",
      "\u001b[36mFile \u001b[39m\u001b[32m~/anaconda3/envs/conda-env-py311/lib/python3.11/site-packages/pynbody/array/__init__.py:783\u001b[39m, in \u001b[36m_dirty_fn.<locals>.q\u001b[39m\u001b[34m(a, *y, **kw)\u001b[39m\n\u001b[32m    781\u001b[39m     \u001b[38;5;28;01mreturn\u001b[39;00m w(a, *y, **kw)\n\u001b[32m    782\u001b[39m \u001b[38;5;28;01melse\u001b[39;00m:\n\u001b[32m--> \u001b[39m\u001b[32m783\u001b[39m     \u001b[38;5;28;01mreturn\u001b[39;00m w(a, *y)\n",
      "\u001b[36mFile \u001b[39m\u001b[32m~/anaconda3/envs/conda-env-py311/lib/python3.11/site-packages/pynbody/array/__init__.py:570\u001b[39m, in \u001b[36mSimArray.__setitem__\u001b[39m\u001b[34m(self, item, to)\u001b[39m\n\u001b[32m    568\u001b[39m     np.ndarray.\u001b[34m__setitem__\u001b[39m(\u001b[38;5;28mself\u001b[39m, item, to.in_units(\u001b[38;5;28mself\u001b[39m.units))\n\u001b[32m    569\u001b[39m \u001b[38;5;28;01melse\u001b[39;00m:\n\u001b[32m--> \u001b[39m\u001b[32m570\u001b[39m     np.ndarray.\u001b[34m__setitem__\u001b[39m(\u001b[38;5;28mself\u001b[39m, item, to)\n",
      "\u001b[31mKeyboardInterrupt\u001b[39m: "
     ]
    }
   ],
   "source": [
    "%reload_ext autoreload\n",
    "get_halo_mlf(key, 4096)"
   ]
  },
  {
   "cell_type": "code",
   "execution_count": null,
   "metadata": {},
   "outputs": [],
   "source": []
  },
  {
   "cell_type": "code",
   "execution_count": 23,
   "metadata": {},
   "outputs": [
    {
     "name": "stderr",
     "output_type": "stream",
     "text": [
      "  0%|          | 0/11 [00:00<?, ?it/s]"
     ]
    },
    {
     "name": "stdout",
     "output_type": "stream",
     "text": [
      "Processing halo 1\n"
     ]
    },
    {
     "name": "stderr",
     "output_type": "stream",
     "text": [
      "pynbody.halo : Unable to load AHF substructure file; continuing without. To expose the underlying problem as an exception, pass ignore_missing_substructure=False to the AHFCatalogue constructor\n",
      "pynbody.halo : Unable to load AHF substructure file; continuing without. To expose the underlying problem as an exception, pass ignore_missing_substructure=False to the AHFCatalogue constructor\n",
      "  9%|▉         | 1/11 [00:35<05:57, 35.80s/it]"
     ]
    },
    {
     "name": "stdout",
     "output_type": "stream",
     "text": [
      "Finished halo 1\n",
      "mlf: 23.875289887097438\n",
      "Processing halo 2\n"
     ]
    },
    {
     "name": "stderr",
     "output_type": "stream",
     "text": [
      "pynbody.halo : Unable to load AHF substructure file; continuing without. To expose the underlying problem as an exception, pass ignore_missing_substructure=False to the AHFCatalogue constructor\n",
      "pynbody.halo : Unable to load AHF substructure file; continuing without. To expose the underlying problem as an exception, pass ignore_missing_substructure=False to the AHFCatalogue constructor\n",
      " 18%|█▊        | 2/11 [01:10<05:15, 35.02s/it]"
     ]
    },
    {
     "name": "stdout",
     "output_type": "stream",
     "text": [
      "Finished halo 2\n",
      "mlf: 28.846246210151428\n",
      "Processing halo 3\n"
     ]
    },
    {
     "name": "stderr",
     "output_type": "stream",
     "text": [
      "pynbody.halo : Unable to load AHF substructure file; continuing without. To expose the underlying problem as an exception, pass ignore_missing_substructure=False to the AHFCatalogue constructor\n",
      "pynbody.halo : Unable to load AHF substructure file; continuing without. To expose the underlying problem as an exception, pass ignore_missing_substructure=False to the AHFCatalogue constructor\n",
      " 27%|██▋       | 3/11 [01:46<04:45, 35.74s/it]"
     ]
    },
    {
     "name": "stdout",
     "output_type": "stream",
     "text": [
      "Finished halo 3\n",
      "mlf: 43.8755150264435\n",
      "Processing halo 5\n"
     ]
    },
    {
     "name": "stderr",
     "output_type": "stream",
     "text": [
      "pynbody.halo : Unable to load AHF substructure file; continuing without. To expose the underlying problem as an exception, pass ignore_missing_substructure=False to the AHFCatalogue constructor\n",
      "pynbody.halo : Unable to load AHF substructure file; continuing without. To expose the underlying problem as an exception, pass ignore_missing_substructure=False to the AHFCatalogue constructor\n",
      " 36%|███▋      | 4/11 [02:22<04:09, 35.60s/it]"
     ]
    },
    {
     "name": "stdout",
     "output_type": "stream",
     "text": [
      "Finished halo 5\n",
      "mlf: 49.08418905325585\n",
      "Processing halo 6\n"
     ]
    },
    {
     "name": "stderr",
     "output_type": "stream",
     "text": [
      "pynbody.halo : Unable to load AHF substructure file; continuing without. To expose the underlying problem as an exception, pass ignore_missing_substructure=False to the AHFCatalogue constructor\n",
      "pynbody.halo : Unable to load AHF substructure file; continuing without. To expose the underlying problem as an exception, pass ignore_missing_substructure=False to the AHFCatalogue constructor\n",
      " 45%|████▌     | 5/11 [02:56<03:30, 35.05s/it]"
     ]
    },
    {
     "name": "stdout",
     "output_type": "stream",
     "text": [
      "Finished halo 6\n",
      "mlf: 116.45195081621664\n",
      "Processing halo 7\n"
     ]
    },
    {
     "name": "stderr",
     "output_type": "stream",
     "text": [
      "pynbody.halo : Unable to load AHF substructure file; continuing without. To expose the underlying problem as an exception, pass ignore_missing_substructure=False to the AHFCatalogue constructor\n",
      "pynbody.halo : Unable to load AHF substructure file; continuing without. To expose the underlying problem as an exception, pass ignore_missing_substructure=False to the AHFCatalogue constructor\n",
      " 55%|█████▍    | 6/11 [03:30<02:54, 34.83s/it]"
     ]
    },
    {
     "name": "stdout",
     "output_type": "stream",
     "text": [
      "Finished halo 7\n",
      "mlf: 91.25906838482364\n",
      "Processing halo 8\n"
     ]
    },
    {
     "name": "stderr",
     "output_type": "stream",
     "text": [
      "pynbody.halo : Unable to load AHF substructure file; continuing without. To expose the underlying problem as an exception, pass ignore_missing_substructure=False to the AHFCatalogue constructor\n",
      "pynbody.halo : Unable to load AHF substructure file; continuing without. To expose the underlying problem as an exception, pass ignore_missing_substructure=False to the AHFCatalogue constructor\n",
      " 64%|██████▎   | 7/11 [04:05<02:18, 34.69s/it]"
     ]
    },
    {
     "name": "stdout",
     "output_type": "stream",
     "text": [
      "Finished halo 8\n",
      "mlf: 51.286357577550135\n",
      "Processing halo 10\n"
     ]
    },
    {
     "name": "stderr",
     "output_type": "stream",
     "text": [
      "pynbody.halo : Unable to load AHF substructure file; continuing without. To expose the underlying problem as an exception, pass ignore_missing_substructure=False to the AHFCatalogue constructor\n",
      "pynbody.halo : Unable to load AHF substructure file; continuing without. To expose the underlying problem as an exception, pass ignore_missing_substructure=False to the AHFCatalogue constructor\n",
      " 73%|███████▎  | 8/11 [04:39<01:43, 34.66s/it]"
     ]
    },
    {
     "name": "stdout",
     "output_type": "stream",
     "text": [
      "Finished halo 10\n",
      "mlf: nan\n",
      "Processing halo 11\n"
     ]
    },
    {
     "name": "stderr",
     "output_type": "stream",
     "text": [
      "pynbody.halo : Unable to load AHF substructure file; continuing without. To expose the underlying problem as an exception, pass ignore_missing_substructure=False to the AHFCatalogue constructor\n",
      "pynbody.halo : Unable to load AHF substructure file; continuing without. To expose the underlying problem as an exception, pass ignore_missing_substructure=False to the AHFCatalogue constructor\n",
      " 82%|████████▏ | 9/11 [05:14<01:09, 34.70s/it]"
     ]
    },
    {
     "name": "stdout",
     "output_type": "stream",
     "text": [
      "Finished halo 11\n",
      "mlf: nan\n",
      "Processing halo 13\n"
     ]
    },
    {
     "name": "stderr",
     "output_type": "stream",
     "text": [
      "pynbody.halo : Unable to load AHF substructure file; continuing without. To expose the underlying problem as an exception, pass ignore_missing_substructure=False to the AHFCatalogue constructor\n",
      "pynbody.halo : Unable to load AHF substructure file; continuing without. To expose the underlying problem as an exception, pass ignore_missing_substructure=False to the AHFCatalogue constructor\n",
      " 91%|█████████ | 10/11 [05:48<00:34, 34.51s/it]"
     ]
    },
    {
     "name": "stdout",
     "output_type": "stream",
     "text": [
      "Finished halo 13\n",
      "mlf: nan\n",
      "Processing halo 16\n"
     ]
    },
    {
     "name": "stderr",
     "output_type": "stream",
     "text": [
      "pynbody.halo : Unable to load AHF substructure file; continuing without. To expose the underlying problem as an exception, pass ignore_missing_substructure=False to the AHFCatalogue constructor\n",
      "pynbody.halo : Unable to load AHF substructure file; continuing without. To expose the underlying problem as an exception, pass ignore_missing_substructure=False to the AHFCatalogue constructor\n",
      "100%|██████████| 11/11 [06:22<00:00, 34.74s/it]"
     ]
    },
    {
     "name": "stdout",
     "output_type": "stream",
     "text": [
      "Finished halo 16\n",
      "mlf: 91.11588317454925\n"
     ]
    },
    {
     "name": "stderr",
     "output_type": "stream",
     "text": [
      "\n"
     ]
    }
   ],
   "source": [
    "%reload_ext autoreload\n",
    "z0halos = [1, 2, 3, 5, 6, 7, 8, 10, 11, 13, 16]\n",
    "mlfs = []\n",
    "for halo in tqdm(z0halos):\n",
    "    print(f'Processing halo {halo}')\n",
    "    mlf = get_halo_mlf(f'cptmarvel_{halo}', 4096)\n",
    "    print(f'Finished halo {halo}\\nmlf: {mlf}')\n",
    "    mlfs.append(mlf)"
   ]
  },
  {
   "cell_type": "code",
   "execution_count": 30,
   "metadata": {},
   "outputs": [
    {
     "name": "stderr",
     "output_type": "stream",
     "text": [
      "  0%|          | 0/11 [00:00<?, ?it/s]"
     ]
    },
    {
     "name": "stdout",
     "output_type": "stream",
     "text": [
      "Processing halo 1\n"
     ]
    },
    {
     "name": "stderr",
     "output_type": "stream",
     "text": [
      "pynbody.halo : Unable to load AHF substructure file; continuing without. To expose the underlying problem as an exception, pass ignore_missing_substructure=False to the AHFCatalogue constructor\n",
      "  9%|▉         | 1/11 [00:36<06:04, 36.49s/it]"
     ]
    },
    {
     "name": "stdout",
     "output_type": "stream",
     "text": [
      "Finished halo 1\n",
      "mass: 15525417111.301378\n",
      "solar_mass: 54383786.02075076\n",
      "Processing halo 2\n"
     ]
    },
    {
     "name": "stderr",
     "output_type": "stream",
     "text": [
      "pynbody.halo : Unable to load AHF substructure file; continuing without. To expose the underlying problem as an exception, pass ignore_missing_substructure=False to the AHFCatalogue constructor\n",
      " 18%|█▊        | 2/11 [01:10<05:16, 35.20s/it]"
     ]
    },
    {
     "name": "stdout",
     "output_type": "stream",
     "text": [
      "Finished halo 2\n",
      "mass: 9881825252.99336\n",
      "solar_mass: 14920985.364372073\n",
      "Processing halo 3\n"
     ]
    },
    {
     "name": "stderr",
     "output_type": "stream",
     "text": [
      "pynbody.halo : Unable to load AHF substructure file; continuing without. To expose the underlying problem as an exception, pass ignore_missing_substructure=False to the AHFCatalogue constructor\n",
      " 27%|██▋       | 3/11 [01:41<04:26, 33.35s/it]"
     ]
    },
    {
     "name": "stdout",
     "output_type": "stream",
     "text": [
      "Finished halo 3\n",
      "mass: 8747376959.802544\n",
      "solar_mass: 8509788.473622287\n",
      "Processing halo 5\n"
     ]
    },
    {
     "name": "stderr",
     "output_type": "stream",
     "text": [
      "pynbody.halo : Unable to load AHF substructure file; continuing without. To expose the underlying problem as an exception, pass ignore_missing_substructure=False to the AHFCatalogue constructor\n",
      " 36%|███▋      | 4/11 [02:14<03:52, 33.23s/it]"
     ]
    },
    {
     "name": "stdout",
     "output_type": "stream",
     "text": [
      "Finished halo 5\n",
      "mass: 7501796429.518648\n",
      "solar_mass: 12224865.305343013\n",
      "Processing halo 6\n"
     ]
    },
    {
     "name": "stderr",
     "output_type": "stream",
     "text": [
      "pynbody.halo : Unable to load AHF substructure file; continuing without. To expose the underlying problem as an exception, pass ignore_missing_substructure=False to the AHFCatalogue constructor\n",
      " 45%|████▌     | 5/11 [02:45<03:12, 32.16s/it]"
     ]
    },
    {
     "name": "stdout",
     "output_type": "stream",
     "text": [
      "Finished halo 6\n",
      "mass: 6583702363.2822275\n",
      "solar_mass: 11474861.261733066\n",
      "Processing halo 7\n"
     ]
    },
    {
     "name": "stderr",
     "output_type": "stream",
     "text": [
      "pynbody.halo : Unable to load AHF substructure file; continuing without. To expose the underlying problem as an exception, pass ignore_missing_substructure=False to the AHFCatalogue constructor\n",
      " 55%|█████▍    | 6/11 [03:14<02:36, 31.27s/it]"
     ]
    },
    {
     "name": "stdout",
     "output_type": "stream",
     "text": [
      "Finished halo 7\n",
      "mass: 5100874969.919864\n",
      "solar_mass: 1141684.35044767\n",
      "Processing halo 8\n"
     ]
    },
    {
     "name": "stderr",
     "output_type": "stream",
     "text": [
      "pynbody.halo : Unable to load AHF substructure file; continuing without. To expose the underlying problem as an exception, pass ignore_missing_substructure=False to the AHFCatalogue constructor\n",
      " 64%|██████▎   | 7/11 [03:43<02:02, 30.59s/it]"
     ]
    },
    {
     "name": "stdout",
     "output_type": "stream",
     "text": [
      "Finished halo 8\n",
      "mass: 73040424027.61096\n",
      "solar_mass: 2739408.8944422603\n",
      "Processing halo 10\n"
     ]
    },
    {
     "name": "stderr",
     "output_type": "stream",
     "text": [
      "pynbody.halo : Unable to load AHF substructure file; continuing without. To expose the underlying problem as an exception, pass ignore_missing_substructure=False to the AHFCatalogue constructor\n",
      " 73%|███████▎  | 8/11 [04:14<01:31, 30.43s/it]"
     ]
    },
    {
     "name": "stdout",
     "output_type": "stream",
     "text": [
      "Finished halo 10\n",
      "mass: 3484182184.058449\n",
      "solar_mass: 3438900.2364296084\n",
      "Processing halo 11\n"
     ]
    },
    {
     "name": "stderr",
     "output_type": "stream",
     "text": [
      "pynbody.halo : Unable to load AHF substructure file; continuing without. To expose the underlying problem as an exception, pass ignore_missing_substructure=False to the AHFCatalogue constructor\n",
      " 82%|████████▏ | 9/11 [04:43<01:00, 30.04s/it]"
     ]
    },
    {
     "name": "stdout",
     "output_type": "stream",
     "text": [
      "Finished halo 11\n",
      "mass: 2247484422.547295\n",
      "solar_mass: 562168.9829701261\n",
      "Processing halo 13\n"
     ]
    },
    {
     "name": "stderr",
     "output_type": "stream",
     "text": [
      "pynbody.halo : Unable to load AHF substructure file; continuing without. To expose the underlying problem as an exception, pass ignore_missing_substructure=False to the AHFCatalogue constructor\n",
      " 91%|█████████ | 10/11 [05:13<00:30, 30.02s/it]"
     ]
    },
    {
     "name": "stdout",
     "output_type": "stream",
     "text": [
      "Finished halo 13\n",
      "mass: 1804040780.3328218\n",
      "solar_mass: 304340.623784728\n",
      "Processing halo 16\n"
     ]
    },
    {
     "name": "stderr",
     "output_type": "stream",
     "text": [
      "pynbody.halo : Unable to load AHF substructure file; continuing without. To expose the underlying problem as an exception, pass ignore_missing_substructure=False to the AHFCatalogue constructor\n",
      "100%|██████████| 11/11 [05:48<00:00, 31.69s/it]"
     ]
    },
    {
     "name": "stdout",
     "output_type": "stream",
     "text": [
      "Finished halo 16\n",
      "mass: 5071406676.765408\n",
      "solar_mass: 935578.5525881383\n"
     ]
    },
    {
     "name": "stderr",
     "output_type": "stream",
     "text": [
      "\n"
     ]
    }
   ],
   "source": [
    "%reload_ext autoreload\n",
    "masses = []\n",
    "solar_masses = []\n",
    "for halo in tqdm(z0halos):\n",
    "    print(f'Processing halo {halo}')\n",
    "    mass, solar_mass = get_halo_masses(f'cptmarvel_{halo}', 4096)\n",
    "    print(f'Finished halo {halo}\\nmass: {mass}')\n",
    "    print(f'solar_mass: {solar_mass}')\n",
    "    masses.append(mass)\n",
    "    solar_masses.append(solar_mass)"
   ]
  },
  {
   "cell_type": "code",
   "execution_count": 33,
   "metadata": {},
   "outputs": [
    {
     "data": {
      "text/plain": [
       "<Figure size 1000x600 with 0 Axes>"
      ]
     },
     "execution_count": 33,
     "metadata": {},
     "output_type": "execute_result"
    },
    {
     "data": {
      "text/plain": [
       "<BarContainer object of 11 artists>"
      ]
     },
     "execution_count": 33,
     "metadata": {},
     "output_type": "execute_result"
    },
    {
     "data": {
      "text/plain": [
       "Text(0.5, 0, 'Halo ID')"
      ]
     },
     "execution_count": 33,
     "metadata": {},
     "output_type": "execute_result"
    },
    {
     "data": {
      "text/plain": [
       "Text(0, 0.5, 'Mass Loading Factor')"
      ]
     },
     "execution_count": 33,
     "metadata": {},
     "output_type": "execute_result"
    },
    {
     "data": {
      "text/plain": [
       "Text(0.5, 1.0, 'Mass Loading Factor by Halo ID')"
      ]
     },
     "execution_count": 33,
     "metadata": {},
     "output_type": "execute_result"
    },
    {
     "data": {
      "image/png": "[encoded data removed]",
      "text/plain": [
       "<Figure size 1000x600 with 1 Axes>"
      ]
     },
     "metadata": {},
     "output_type": "display_data"
    }
   ],
   "source": [
    "# producing plots\n",
    "\n",
    "plt.figure(figsize=(10, 6))\n",
    "plt.bar(z0halos, mlfs, color='blue', alpha=0.7, label='Mass Loading Factor')\n",
    "plt.xlabel('Halo ID')\n",
    "plt.ylabel('Mass Loading Factor')\n",
    "plt.title('Mass Loading Factor by Halo ID')\n",
    "plt.yscale('log')\n",
    "plt.show()"
   ]
  },
  {
   "cell_type": "code",
   "execution_count": 34,
   "metadata": {},
   "outputs": [
    {
     "data": {
      "text/plain": [
       "<Figure size 1000x600 with 0 Axes>"
      ]
     },
     "execution_count": 34,
     "metadata": {},
     "output_type": "execute_result"
    },
    {
     "data": {
      "text/plain": [
       "<matplotlib.collections.PathCollection at 0x7ff717cf8490>"
      ]
     },
     "execution_count": 34,
     "metadata": {},
     "output_type": "execute_result"
    },
    {
     "data": {
      "text/plain": [
       "Text(0.5, 0, 'Halo Mass (Msol)')"
      ]
     },
     "execution_count": 34,
     "metadata": {},
     "output_type": "execute_result"
    },
    {
     "data": {
      "text/plain": [
       "Text(0, 0.5, 'Mass Loading Factor')"
      ]
     },
     "execution_count": 34,
     "metadata": {},
     "output_type": "execute_result"
    },
    {
     "data": {
      "text/plain": [
       "Text(0.5, 1.0, 'Mass Loading Factor vs Halo Mass')"
      ]
     },
     "execution_count": 34,
     "metadata": {},
     "output_type": "execute_result"
    },
    {
     "data": {
      "image/png": "[encoded data removed]",
      "text/plain": [
       "<Figure size 1000x600 with 1 Axes>"
      ]
     },
     "metadata": {},
     "output_type": "display_data"
    }
   ],
   "source": [
    "# plotting mfls vs mass\n",
    "plt.figure(figsize=(10, 6))\n",
    "plt.scatter(masses, mlfs, color='red', label='MLF vs Mass', alpha=0.7)\n",
    "plt.xlabel('Halo Mass (Msol)')\n",
    "plt.ylabel('Mass Loading Factor')\n",
    "plt.title('Mass Loading Factor vs Halo Mass')\n",
    "plt.xscale('log')\n",
    "plt.yscale('log')\n",
    "plt.show()\n"
   ]
  },
  {
   "cell_type": "code",
   "execution_count": null,
   "metadata": {},
   "outputs": [],
   "source": []
  }
 ],
 "metadata": {
  "kernelspec": {
   "display_name": "Python (conda-env-py311)",
   "language": "python",
   "name": "conda-env-py311"
  },
  "language_info": {
   "codemirror_mode": {
    "name": "ipython",
    "version": 3
   },
   "file_extension": ".py",
   "mimetype": "text/x-python",
   "name": "python",
   "nbconvert_exporter": "python",
   "pygments_lexer": "ipython3",
   "version": "3.11.0"
  }
 },
 "nbformat": 4,
 "nbformat_minor": 2
}
