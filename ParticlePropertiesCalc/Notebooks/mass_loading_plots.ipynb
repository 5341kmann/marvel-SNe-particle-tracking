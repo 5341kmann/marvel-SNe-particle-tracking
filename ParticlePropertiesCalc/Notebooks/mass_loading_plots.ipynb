{
 "cells": [
  {
   "cell_type": "code",
   "execution_count": null,
   "metadata": {},
   "outputs": [],
   "source": [
    "# auto updates code chnages\n",
    "%load_ext autoreload\n",
    "%autoreload 2\n",
    "\n",
    "import matplotlib.pyplot as plt\n",
    "import os\n",
    "import sys\n",
    "import pynbody\n",
    "import numpy as np\n",
    "basepath = os.path.dirname(os.path.dirname(os.getcwd()))\n",
    "if basepath not in sys.path:\n",
    "    sys.path.append(basepath)\n",
    "from base import *\n",
    "from IPython.core.interactiveshell import InteractiveShell\n",
    "InteractiveShell.ast_node_interactivity = \"all\""
   ]
  },
  {
   "cell_type": "code",
   "execution_count": null,
   "metadata": {},
   "outputs": [],
   "source": [
    "sim, halos = load_sim('cptmarvel', 4096)"
   ]
  },
  {
   "cell_type": "code",
   "execution_count": null,
   "metadata": {},
   "outputs": [],
   "source": [
    "expelled_cptmarvel_1 = load_expelled_particles('cptmarvel_1')\n",
    "ejected_cptmarvel_1 = load_ejected_particles('cptmarvel_1')"
   ]
  },
  {
   "cell_type": "code",
   "execution_count": null,
   "metadata": {},
   "outputs": [],
   "source": [
    "h = halos[1]\n",
    "snap_time = h.properties['time'].in_units('Gyr')\n",
    "expelled_time_mask = expelled_cptmarvel_1['time'] == snap_time\n",
    "expelled_40096 = expelled_cptmarvel_1[expelled_time_mask]\n",
    "ejected_time_mask = ejected_cptmarvel_1['time'] == snap_time\n",
    "ejected_4096 = ejected_cptmarvel_1[ejected_time_mask]\n"
   ]
  },
  {
   "cell_type": "code",
   "execution_count": null,
   "metadata": {},
   "outputs": [],
   "source": [
    "# centering the halo \n",
    "pynbody.analysis.angmom.faceon(h)\n"
   ]
  },
  {
   "cell_type": "code",
   "execution_count": null,
   "metadata": {},
   "outputs": [],
   "source": [
    "# Setting parameters for the analysis\n",
    "nbins = 100\n",
    "delta_T = 1 # Gyr\n",
    "r_min = 0.1 # kpc\n",
    "sfr_window_start = snap_time - pynbody.units.Unit(f'{delta_T} Gyr').in_units('Gyr')\n",
    "r_max = expelled_40096['r_gal'].iloc[0]\n",
    "bins = np.logspace(np.log10(r_min), np.log10(r_max), nbins + 1)"
   ]
  },
  {
   "cell_type": "code",
   "execution_count": null,
   "metadata": {},
   "outputs": [],
   "source": []
  },
  {
   "cell_type": "code",
   "execution_count": null,
   "metadata": {},
   "outputs": [],
   "source": [
    "# star properties\n",
    "stars = h.star\n",
    "star_pos = stars['pos'].in_units('kpc')\n",
    "# calculating the distance from the center of the halo\n",
    "star_dist = np.sqrt(np.sum(star_pos**2, axis=1))\n",
    "star_mass = stars['mass'].in_units('Msol')\n",
    "star_tform = stars['tform'].in_units('Gyr')"
   ]
  },
  {
   "cell_type": "code",
   "execution_count": null,
   "metadata": {},
   "outputs": [],
   "source": [
    "binned_sfr = np.zeros(nbins)\n",
    "binned_expelled_mass = np.zeros(nbins)\n",
    "binned_ejected_mass = np.zeros(nbins)\n",
    "\n",
    "for i in range(nbins):\n",
    "    # setting the bin limits\n",
    "    bin_min = bins[i]\n",
    "    # handling for the last bin\n",
    "    bin_max = bins[i+1] \n",
    "\n",
    "    # selecting for in bin stars, outflows and ejected particles\n",
    "    selected_stars = stars[(star_dist >= bin_min) & (star_dist < bin_max)]\n",
    "    selected_expelled = expelled_40096[(expelled_40096['r'] >= bin_min) & (expelled_40096['r'] < bin_max)]\n",
    "    selected_ejected = ejected_4096[(ejected_4096['r'] >= bin_min) & (ejected_4096['r'] < bin_max)]\n",
    "\n",
    "    # selecting particles that formed in the time window\n",
    "    selected_formed_stars = selected_stars[(selected_stars['tform'].in_units('Gyr') >= sfr_window_start) & (selected_stars['tform'].in_units('Gyr') <= snap_time)]\n",
    "\n",
    "    # calculating formation rate\n",
    "    selected_mass_formed = selected_formed_stars['mass'].sum().in_units('Msol')\n",
    "    binned_sfr[i] = selected_mass_formed / delta_T\n",
    "\n",
    "    # calculating outflow and ejected mass\n",
    "    binned_expelled_mass[i] = selected_expelled['mass'].sum()\n",
    "    binned_ejected_mass[i] = selected_ejected['mass'].sum()\n",
    "\n",
    "binned_mlf_expelled = np.divide(binned_expelled_mass, binned_sfr, out=np.zeros_like(binned_expelled_mass), where=binned_sfr != 0)\n",
    "binned_mlf_ejected = np.divide(binned_ejected_mass, binned_sfr, out=np.zeros_like(binned_ejected_mass), where=binned_sfr != 0)\n"
   ]
  },
  {
   "cell_type": "code",
   "execution_count": null,
   "metadata": {},
   "outputs": [],
   "source": [
    "get"
   ]
  },
  {
   "cell_type": "code",
   "execution_count": null,
   "metadata": {},
   "outputs": [],
   "source": [
    "# # plotting mlf\n",
    "\n",
    "# bin_centers = 0.5 * (bins[:-1] + bins[1:])\n",
    "\n",
    "# r_half = expelled_40096['r_half'].iloc[0]\n",
    "\n",
    "# plt.scatter(bin_centers, binned_sfr, marker='o', color='blue')\n",
    "# plt.xlabel('Radius (kpc)')\n",
    "# plt.ylabel('Stellar Formation Rate (Msol/Gyr)')\n",
    "# plt.axvline(x=r_half, color='black', linestyle='-')\n",
    "# plt.semilogy()\n",
    "# plt.show()\n",
    "\n",
    "# plt.scatter(bin_centers, binned_mlf_ejected, marker='o', color='red')\n",
    "# plt.xlabel('Radius (kpc)')\n",
    "# plt.ylabel('Ejected Mass / SFR')\n",
    "# plt.semilogy()\n",
    "# plt.show()\n",
    "\n",
    "# plt.scatter(bin_centers, binned_mlf_expelled, marker='o', color='green')\n",
    "# plt.xlabel('Radius (kpc)')\n",
    "# plt.ylabel('Mass Loading Factor')\n",
    "# plt.semilogy()\n",
    "# plt.show()\n"
   ]
  },
  {
   "cell_type": "code",
   "execution_count": null,
   "metadata": {},
   "outputs": [],
   "source": [
    "# need to make a mass loading plot by function of halo mass\n",
    "# first code to find MLF of a halo\n",
    "def mlf_of_halo(halo, snap_time, delta_T=1):\n",
    "    \"\"\"\n",
    "    Calculate the mass loading factor of a halo at a given snapshot time.\n",
    "\n",
    "    Parameters:\n",
    "    halo (pynbody.halo.Halo): The halo to analyze.\n",
    "    snap_time (float): The snapshot time in Gyr.\n",
    "    delta_T (float): The time window for SFR calculation in Gyr.\n",
    "\n",
    "    Returns:\n",
    "    tuple: Bin centers, binned SFR, binned expelled mass, binned ejected mass, MLF expelled, MLF ejected.\n",
    "    \"\"\"\n",
    "    \n",
    "    # Extracting star properties\n",
    "    stars = halo.star\n",
    "    star_pos = stars['pos'].in_units('kpc')\n",
    "    star_dist = np.sqrt(np.sum(star_pos**2, axis=1))\n",
    "    star_mass = stars['mass'].in_units('Msol')\n",
    "    star_tform = stars['tform'].in_units('Gyr')\n",
    "\n",
    "    # Setting parameters for the analysis\n",
    "    nbins = 100\n",
    "    r_min = 0.1  # kpc\n",
    "    r_max = halo.properties['r_half'].in_units('kpc')\n",
    "    bins = np.logspace(np.log10(r_min), np.log10(r_max), nbins + 1)\n",
    "\n",
    "    # Initializing arrays for binned data\n",
    "    binned_sfr = np.zeros(nbins)\n",
    "    binned_expelled_mass = np.zeros(nbins)\n",
    "    binned_ejected_mass = np.zeros(nbins)\n",
    "\n",
    "    for i in range(nbins):\n",
    "        bin_min = bins[i]\n",
    "        bin_max = bins[i + 1]\n",
    "\n",
    "        selected_stars = stars[(star_dist >= bin_min) & (star_dist < bin_max)]\n",
    "        selected_expelled = expelled_cptmarvel_1[(expelled_cptmarvel_1['r'] >= bin_min) & (expelled_cptmarvel_1['r'] < bin_max)]\n",
    "        selected_ejected = ejected_cptmarvel_1[(ejected_cptmarvel_1['r'] >= bin_min) & (ejected_cptmarvel_1['r'] < bin_max)]\n",
    "\n",
    "        selected_formed_stars = selected_stars[(selected_stars['tform'].in_units('Gyr') >= snap_time - delta_T) & (selected_stars['tform'].in_units('Gyr') <= snap_time)]\n",
    "\n",
    "        selected_mass_formed = selected_formed_stars['"
   ]
  }
 ],
 "metadata": {
  "kernelspec": {
   "display_name": "Python (conda-env-py311)",
   "language": "python",
   "name": "conda-env-py311"
  },
  "language_info": {
   "codemirror_mode": {
    "name": "ipython",
    "version": 3
   },
   "file_extension": ".py",
   "mimetype": "text/x-python",
   "name": "python",
   "nbconvert_exporter": "python",
   "pygments_lexer": "ipython3",
   "version": "3.11.0"
  }
 },
 "nbformat": 4,
 "nbformat_minor": 2
}
